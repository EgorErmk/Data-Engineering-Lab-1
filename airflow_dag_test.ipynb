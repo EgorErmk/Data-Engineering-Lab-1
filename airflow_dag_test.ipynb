{
 "cells": [
  {
   "cell_type": "code",
   "execution_count": 1,
   "metadata": {},
   "outputs": [],
   "source": [
    "import pandas as pd"
   ]
  },
  {
   "cell_type": "code",
   "execution_count": 9,
   "metadata": {},
   "outputs": [],
   "source": [
    "df = pd.read_csv(f'./data/chunk0.csv')\n",
    "for i in range(1,26,1):\n",
    "    df_ = pd.read_csv(f'./data/chunk{i}.csv')\n",
    "    df = pd.concat([df,df_])\n",
    "df = df.dropna(subset=['region_1','designation'])\n",
    "df = df.fillna(value={'price': 0.0})    "
   ]
  },
  {
   "cell_type": "code",
   "execution_count": 10,
   "metadata": {},
   "outputs": [
    {
     "data": {
      "text/plain": [
       "<bound method DataFrame.info of           id country                                        description  \\\n",
       "0          0   Italy  Aromas include tropical fruit, broom, brimston...   \n",
       "3          3      US  Pineapple rind, lemon pith and orange blossom ...   \n",
       "4          4      US  Much like the regular bottling from 2012, this...   \n",
       "5          5   Spain  Blackberry and raspberry aromas show a typical...   \n",
       "6          6   Italy  Here's a bright, informal red that opens with ...   \n",
       "...      ...     ...                                                ...   \n",
       "4962  129962   Italy  Blackberry, cassis, grilled herb and toasted a...   \n",
       "4964  129964  France  Initially quite muted, this wine slowly develo...   \n",
       "4965  129965  France  While it's rich, this beautiful dry wine also ...   \n",
       "4968  129968  France  Well-drained gravel soil gives this wine its c...   \n",
       "4970  129970  France  Big, rich and off-dry, this is powered by inte...   \n",
       "\n",
       "                             designation  points  price           province  \\\n",
       "0                           Vulkà Bianco      87    0.0  Sicily & Sardinia   \n",
       "3                   Reserve Late Harvest      87   13.0           Michigan   \n",
       "4     Vintner's Reserve Wild Child Block      87   65.0             Oregon   \n",
       "5                           Ars In Vitro      87   15.0     Northern Spain   \n",
       "6                                Belsito      87   16.0  Sicily & Sardinia   \n",
       "...                                  ...     ...    ...                ...   \n",
       "4962           Sàgana Tenuta San Giacomo      90   40.0  Sicily & Sardinia   \n",
       "4964        Domaine Saint-Rémy Herrenweg      90    0.0             Alsace   \n",
       "4965         Seppi Landmann Vallée Noble      90   28.0             Alsace   \n",
       "4968                               Kritt      90   30.0             Alsace   \n",
       "4970       Lieu-dit Harth Cuvée Caroline      90   21.0             Alsace   \n",
       "\n",
       "                 region_1           region_2         taster_name  \\\n",
       "0                    Etna                NaN       Kerin O’Keefe   \n",
       "3     Lake Michigan Shore                NaN  Alexander Peartree   \n",
       "4       Willamette Valley  Willamette Valley        Paul Gregutt   \n",
       "5                 Navarra                NaN   Michael Schachner   \n",
       "6                Vittoria                NaN       Kerin O’Keefe   \n",
       "...                   ...                ...                 ...   \n",
       "4962              Sicilia                NaN       Kerin O’Keefe   \n",
       "4964               Alsace                NaN          Roger Voss   \n",
       "4965               Alsace                NaN          Roger Voss   \n",
       "4968               Alsace                NaN          Roger Voss   \n",
       "4970               Alsace                NaN          Roger Voss   \n",
       "\n",
       "     taster_twitter_handle                                              title  \\\n",
       "0             @kerinokeefe                  Nicosia 2013 Vulkà Bianco  (Etna)   \n",
       "3                      NaN  St. Julian 2013 Reserve Late Harvest Riesling ...   \n",
       "4              @paulgwine   Sweet Cheeks 2012 Vintner's Reserve Wild Child...   \n",
       "5              @wineschach  Tandem 2011 Ars In Vitro Tempranillo-Merlot (N...   \n",
       "6             @kerinokeefe   Terre di Giurfo 2013 Belsito Frappato (Vittoria)   \n",
       "...                    ...                                                ...   \n",
       "4962          @kerinokeefe  Cusumano 2012 Sàgana Tenuta San Giacomo Nero d...   \n",
       "4964            @vossroger  Domaine Ehrhart 2013 Domaine Saint-Rémy Herren...   \n",
       "4965            @vossroger  Domaine Rieflé-Landmann 2013 Seppi Landmann Va...   \n",
       "4968            @vossroger  Domaine Gresser 2013 Kritt Gewurztraminer (Als...   \n",
       "4970            @vossroger  Domaine Schoffit 2012 Lieu-dit Harth Cuvée Car...   \n",
       "\n",
       "                 variety                   winery  \n",
       "0            White Blend                  Nicosia  \n",
       "3               Riesling               St. Julian  \n",
       "4             Pinot Noir             Sweet Cheeks  \n",
       "5     Tempranillo-Merlot                   Tandem  \n",
       "6               Frappato          Terre di Giurfo  \n",
       "...                  ...                      ...  \n",
       "4962        Nero d'Avola                 Cusumano  \n",
       "4964      Gewürztraminer          Domaine Ehrhart  \n",
       "4965          Pinot Gris  Domaine Rieflé-Landmann  \n",
       "4968      Gewürztraminer          Domaine Gresser  \n",
       "4970      Gewürztraminer         Domaine Schoffit  \n",
       "\n",
       "[75036 rows x 14 columns]>"
      ]
     },
     "execution_count": 10,
     "metadata": {},
     "output_type": "execute_result"
    }
   ],
   "source": [
    "df.info"
   ]
  },
  {
   "cell_type": "code",
   "execution_count": null,
   "metadata": {},
   "outputs": [],
   "source": []
  }
 ],
 "metadata": {
  "kernelspec": {
   "display_name": "Python 3",
   "language": "python",
   "name": "python3"
  },
  "language_info": {
   "codemirror_mode": {
    "name": "ipython",
    "version": 3
   },
   "file_extension": ".py",
   "mimetype": "text/x-python",
   "name": "python",
   "nbconvert_exporter": "python",
   "pygments_lexer": "ipython3",
   "version": "3.10.7"
  }
 },
 "nbformat": 4,
 "nbformat_minor": 2
}
